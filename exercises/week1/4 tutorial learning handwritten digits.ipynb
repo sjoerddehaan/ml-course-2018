{
 "cells": [
  {
   "cell_type": "markdown",
   "metadata": {},
   "source": [
    "# Hand written digit classification with Keras"
   ]
  },
  {
   "cell_type": "markdown",
   "metadata": {},
   "source": [
    "MNIST is a dataset of 60,000 28x28 grayscale images of the 10 digits, along with a test set of 10,000 images.  \n",
    "\n",
    "The digits have been isolated and the images have been scaled and centered. You can find more information about the MNIST dataset on the [MNIST official website](http://yann.lecun.com/exdb/mnist/).\n",
    "\n",
    "In this tutorial, we are using deep learning library [Keras](http://www.keras.io/) to classify those hand-written digits. The available classes are `0 1 2 3 4 5 6 7 8 9`."
   ]
  },
  {
   "cell_type": "markdown",
   "metadata": {},
   "source": [
    "## Load dependencies"
   ]
  },
  {
   "cell_type": "code",
   "execution_count": 1,
   "metadata": {},
   "outputs": [
    {
     "name": "stderr",
     "output_type": "stream",
     "text": [
      "Using TensorFlow backend.\n"
     ]
    }
   ],
   "source": [
    "%matplotlib inline\n",
    "import matplotlib.pyplot as plt\n",
    "import numpy as np\n",
    "np.random.seed(75)\n",
    "\n",
    "from keras.datasets import mnist\n",
    "from keras.models import Sequential\n",
    "from keras.layers.core import Dense, Dropout, Activation, Flatten\n",
    "from keras.layers.convolutional import Convolution2D, MaxPooling2D\n",
    "from keras.utils import np_utils\n",
    "from keras.optimizers import RMSprop"
   ]
  },
  {
   "cell_type": "markdown",
   "metadata": {},
   "source": [
    "## Load the dataset"
   ]
  },
  {
   "cell_type": "markdown",
   "metadata": {},
   "source": [
    "Keras has build-in functions for downloading some [well-known datasets](https://keras.io/datasets/).  \n",
    "At the moment of writing, there are two text dataset and three image datasets supported by Keras."
   ]
  },
  {
   "cell_type": "code",
   "execution_count": 2,
   "metadata": {},
   "outputs": [],
   "source": [
    "(x_train, y_train), (x_test, y_test) = mnist.load_data()"
   ]
  },
  {
   "cell_type": "markdown",
   "metadata": {},
   "source": [
    "These are some of the training images "
   ]
  },
  {
   "cell_type": "code",
   "execution_count": 3,
   "metadata": {},
   "outputs": [
    {
     "data": {
      "image/png": "[encoded data removed]",
      "text/plain": [
       "<matplotlib.figure.Figure at 0x7f306db9c6a0>"
      ]
     },
     "metadata": {},
     "output_type": "display_data"
    }
   ],
   "source": [
    "for i in range(9):\n",
    "    plt.subplot(3, 3, i+1)\n",
    "    plt.imshow(x_train[i], cmap='gray')\n",
    "    plt.axis(\"off\")"
   ]
  },
  {
   "cell_type": "markdown",
   "metadata": {
    "collapsed": true
   },
   "source": [
    "### Excercise 2.1 - Inspect the dataset\n",
    "1. X_train, y_train, X_test and y_test are matrices. What are the dimensions of these matrices?\n",
    "2. Can you explain where these numbers come from?\n",
    "3. Inspect the content of X_train and y_train\n",
    "\n",
    "*hint: use X_train.shape*\n",
    "\n",
    "### (Exercise 2.2 - Python functions)\n",
    "4.  Turn the code snippet for plotting into a function\n",
    "```\n",
    "def function(images, ncol=3)\n",
    "    \"\"\"Turns a list of matrices into a grid of heatmaps.\"\"\"\n",
    "```\n"
   ]
  },
  {
   "cell_type": "markdown",
   "metadata": {},
   "source": [
    "## Design a deep neural network\n",
    "\n",
    "Representation learning is at the hard of deep learning. Instead of crafting manual features, the network learns a representation of handwriting by itself. This representation is spread out over several layers. The final layer uses the patterns learned by the previous layers to classify the image into one of 10 available categories. The layered structure is typical for neural networks. The math can easily be expressed in terms of vectors, matrices, and higher order tensors. The networks can then be trained conveniently with a [backpropagation](https://en.wikipedia.org/wiki/Backpropagation) algorithm. \n",
    "\n",
    "It is time now to design a neural network architecture capable of learning a representation of the above images. We create a model with three dense layers and a dropout layer after the first two layers. \n",
    "\n",
    "This example is copied from the [keras examples](https://github.com/fchollet/keras/blob/master/examples/mnist_mlp.py) repository, maintained by F. Chollet, the creator of Keras. In this repository you can find more working examples."
   ]
  },
  {
   "cell_type": "code",
   "execution_count": 4,
   "metadata": {},
   "outputs": [],
   "source": [
    "model = Sequential()\n",
    "model.add(Dense(512, input_shape=(784,)))\n",
    "model.add(Activation('relu'))\n",
    "model.add(Dropout(0.2))\n",
    "model.add(Dense(256))\n",
    "model.add(Activation('relu'))\n",
    "model.add(Dropout(0.2))\n",
    "model.add(Dense(10))\n",
    "model.add(Activation('softmax'))"
   ]
  },
  {
   "cell_type": "code",
   "execution_count": 5,
   "metadata": {},
   "outputs": [
    {
     "name": "stdout",
     "output_type": "stream",
     "text": [
      "_________________________________________________________________\n",
      "Layer (type)                 Output Shape              Param #   \n",
      "=================================================================\n",
      "dense_1 (Dense)              (None, 512)               401920    \n",
      "_________________________________________________________________\n",
      "activation_1 (Activation)    (None, 512)               0         \n",
      "_________________________________________________________________\n",
      "dropout_1 (Dropout)          (None, 512)               0         \n",
      "_________________________________________________________________\n",
      "dense_2 (Dense)              (None, 256)               131328    \n",
      "_________________________________________________________________\n",
      "activation_2 (Activation)    (None, 256)               0         \n",
      "_________________________________________________________________\n",
      "dropout_2 (Dropout)          (None, 256)               0         \n",
      "_________________________________________________________________\n",
      "dense_3 (Dense)              (None, 10)                2570      \n",
      "_________________________________________________________________\n",
      "activation_3 (Activation)    (None, 10)                0         \n",
      "=================================================================\n",
      "Total params: 535,818\n",
      "Trainable params: 535,818\n",
      "Non-trainable params: 0\n",
      "_________________________________________________________________\n"
     ]
    }
   ],
   "source": [
    "model.summary()"
   ]
  },
  {
   "cell_type": "markdown",
   "metadata": {},
   "source": [
    "### Excercise 3.1 - Parameters\n",
    "1. What are parameters?\n",
    "1. How many parameters does each layer have?\n",
    "2. How many parameters has the dropout function?\n",
    "3. How many parameters has the model in total?\n",
    "4. What is the advantage of having many parameters?\n",
    "5. Can you see disadvantages of having many parameters?"
   ]
  },
  {
   "cell_type": "markdown",
   "metadata": {},
   "source": [
    "### Excercise 3.2 - Activation functions\n",
    "2. What is the role of an activation function?\n",
    "3. What does the relu activation function do?\n",
    "3. What other activation functions does Keras provide?\n",
    "4. What happens is you leave out the activation functions in the hidden layers?"
   ]
  },
  {
   "cell_type": "markdown",
   "metadata": {},
   "source": [
    "### Exercise 3.3 - Layers\n",
    "1. What is the task of the first layer?\n",
    "2. What is the task of the hidden layers?\n",
    "3. What is the task of the final layer?"
   ]
  },
  {
   "cell_type": "markdown",
   "metadata": {},
   "source": [
    "### (Exercise 3.4 - Keras source code)\n",
    "Go to the github repository of Keras.\n",
    "1. Locate the source code of the Sequential class\n",
    "2. Read trough the code and try to understand how it works"
   ]
  },
  {
   "cell_type": "markdown",
   "metadata": {},
   "source": [
    "## Train the neural network\n",
    "\n",
    "Before we can train the model, we need to reshape and rescale the input. The re-shape is needed since keras expects one-dimensional input for dense layers. Without rescaling, the relu activation functions would be overstimulated, resulting in cell damage."
   ]
  },
  {
   "cell_type": "code",
   "execution_count": 6,
   "metadata": {},
   "outputs": [
    {
     "data": {
      "text/plain": [
       "(60000,)"
      ]
     },
     "execution_count": 6,
     "metadata": {},
     "output_type": "execute_result"
    }
   ],
   "source": [
    "y_train.shape"
   ]
  },
  {
   "cell_type": "code",
   "execution_count": 7,
   "metadata": {},
   "outputs": [],
   "source": [
    "def flatten(X):\n",
    "    dim = X.shape\n",
    "    return X.reshape(dim[0], dim[1]*dim[2])"
   ]
  },
  {
   "cell_type": "code",
   "execution_count": 8,
   "metadata": {},
   "outputs": [],
   "source": [
    "Y_train = np_utils.to_categorical(y_train, 10)\n",
    "Y_test = np_utils.to_categorical(y_test, 10)\n",
    "\n",
    "X_train = flatten(x_train) / 255\n",
    "X_test = flatten(x_test) / 255"
   ]
  },
  {
   "cell_type": "code",
   "execution_count": 9,
   "metadata": {},
   "outputs": [
    {
     "name": "stdout",
     "output_type": "stream",
     "text": [
      "Train on 60000 samples, validate on 10000 samples\n",
      "Epoch 1/2\n",
      "60000/60000 [==============================] - 8s 126us/step - loss: 0.2615 - acc: 0.9214 - val_loss: 0.1215 - val_acc: 0.9624\n",
      "Epoch 2/2\n",
      "60000/60000 [==============================] - 7s 121us/step - loss: 0.1076 - acc: 0.9681 - val_loss: 0.0808 - val_acc: 0.9759\n"
     ]
    }
   ],
   "source": [
    "batch_size = 128\n",
    "nb_epoch = 2\n",
    "\n",
    "model.compile(loss='categorical_crossentropy',\n",
    "              optimizer=RMSprop(),\n",
    "              metrics=['accuracy'])\n",
    "\n",
    "history = model.fit(X_train, Y_train,\n",
    "                    batch_size=batch_size, epochs=nb_epoch,\n",
    "                    verbose=1, validation_data=(X_test, Y_test))\n",
    "score = model.evaluate(X_test, Y_test, verbose=0)"
   ]
  },
  {
   "cell_type": "markdown",
   "metadata": {},
   "source": [
    "### Exercise 3.1 - Training phase\n",
    "1. What does it mean to train a neural network?\n",
    "2. Which ingredients do you need for training a neural network?"
   ]
  },
  {
   "cell_type": "markdown",
   "metadata": {},
   "source": [
    "### Exercise 3.2 - Accuracy and Loss\n",
    "Run the code below.\n",
    "1. What is meant by loss?\n",
    "2. What is meant by accuracy?"
   ]
  },
  {
   "cell_type": "code",
   "execution_count": 10,
   "metadata": {},
   "outputs": [
    {
     "name": "stdout",
     "output_type": "stream",
     "text": [
      "Accuracy = 0.98\n"
     ]
    }
   ],
   "source": [
    "loss, accuracy = model.evaluate(X_test, Y_test, verbose=0)\n",
    "print(\"Accuracy = {:.2f}\".format(accuracy))"
   ]
  },
  {
   "cell_type": "markdown",
   "metadata": {},
   "source": [
    "### Exercise 3.3 - Training and validation\n",
    "1. What the difference between a training set and a validation set?\n",
    "2. What is the difference between a test set and a validation set?"
   ]
  },
  {
   "cell_type": "markdown",
   "metadata": {},
   "source": [
    "### Exercise 3.4 Make predictions\n",
    "1. Run the code below to make predictions with the model that you have just trained\n",
    "2. Try to find an example that is misclassified by the network"
   ]
  },
  {
   "cell_type": "code",
   "execution_count": 11,
   "metadata": {},
   "outputs": [
    {
     "data": {
      "image/png": "[encoded data removed]",
      "text/plain": [
       "<matplotlib.figure.Figure at 0x7f3064ab9a58>"
      ]
     },
     "metadata": {},
     "output_type": "display_data"
    }
   ],
   "source": [
    "res = model.predict_classes(X_test[:9])\n",
    "plt.figure(figsize=(10, 10))\n",
    "\n",
    "for i in range(9):\n",
    "    plt.subplot(3, 3, i+1)\n",
    "    plt.imshow(x_test[i], cmap='gray')\n",
    "    plt.gca().get_xaxis().set_ticks([])\n",
    "    plt.gca().get_yaxis().set_ticks([])\n",
    "    plt.ylabel(\"prediction = %d\" % res[i], fontsize=18)"
   ]
  },
  {
   "cell_type": "markdown",
   "metadata": {
    "collapsed": true
   },
   "source": [
    "### Exercise 3.5 - Batches and Epochs\n",
    "1. The batch size is set to 128. What does this mean?\n",
    "2. The number of epochs is 2. What does that mean?\n",
    "4. Try increasing the number of epochs"
   ]
  },
  {
   "cell_type": "markdown",
   "metadata": {},
   "source": [
    "## 4. Modified architecture"
   ]
  },
  {
   "cell_type": "markdown",
   "metadata": {},
   "source": [
    "### Exercise 4.1 - Architecture\n",
    "Create and train several architectures and see how the training process and the performance of the network are influenced\n",
    "1. Reduce the number of layers\n",
    "2. Reduce the number of units\n",
    "3. Add extra more layers\n",
    "3. Add more units\n",
    "2. Increase dropout\n",
    "1. Decrease dropout"
   ]
  },
  {
   "cell_type": "markdown",
   "metadata": {},
   "source": [
    "## 5. Convolutional networks"
   ]
  },
  {
   "cell_type": "markdown",
   "metadata": {
    "collapsed": true
   },
   "source": [
    "### (Exercise 5.1 - Convolutional networks)\n",
    "Create and train a convolutional network on the MNIST dataset. You can find examples on the [keras examples repository](https://github.com/fchollet/keras/blob/master/examples/"
   ]
  }
 ],
 "metadata": {
  "anaconda-cloud": {},
  "kernelspec": {
   "display_name": "Python 3",
   "language": "python",
   "name": "python3"
  },
  "language_info": {
   "codemirror_mode": {
    "name": "ipython",
    "version": 3
   },
   "file_extension": ".py",
   "mimetype": "text/x-python",
   "name": "python",
   "nbconvert_exporter": "python",
   "pygments_lexer": "ipython3",
   "version": "3.6.3"
  },
  "toc": {
   "nav_menu": {},
   "number_sections": true,
   "sideBar": true,
   "skip_h1_title": false,
   "title_cell": "Table of Contents",
   "title_sidebar": "Contents",
   "toc_cell": false,
   "toc_position": {},
   "toc_section_display": true,
   "toc_window_display": false
  }
 },
 "nbformat": 4,
 "nbformat_minor": 1
}

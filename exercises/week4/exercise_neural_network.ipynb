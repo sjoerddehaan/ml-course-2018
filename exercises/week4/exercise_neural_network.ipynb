{
 "cells": [
  {
   "cell_type": "markdown",
   "metadata": {},
   "source": [
    "# Exercise neural network\n",
    "\n",
    "In this exercise you are going to create a 3-layer neural network using TensorFlow.\n",
    "You will train this neural network on the Boston housing dataset again, and try to get a smaller generalization error.  \n",
    "Again you create a report that contains all important information about your experiment. However, it should be easy to read. Organize it in a logical way, and make use of the layout capabilities of Jupyter Notebooks. Clean up you notebook by removing irrelevant code and outcomes.\n",
    "\n",
    "1. Copy paste the linear regression TensorFlow example form the lecture notes and make it work in this notebook.\n",
    "2. Change the computation graph to include a regularization term. Train the network with regularization. If you succeed in the next step, you don't need to keep this intermediate step in you notebook. Note: `lambda` is a reserved word in Python\n",
    "3. Add an extra fully connected layer. Use a `tan` function as activation. Add regularization. If you succeed in the next step, you don't need to keep this intermediate step in you notebook. Use the same regularization parameter for all layers.\n",
    "3. Add another layer with regularization\n",
    "3. Optional: after your regression network is bug-free, put it into a class or function\n",
    "4. Search for a good value of the hyper parameter $\\lambda$. You have one such parameter that is used in all layers of your network. *Hint: you may want to use lists and for-loops to loop over combinations, here*\n",
    "5. Change the activation function to a `relu` function. Do you get better results? Don't forget to try different values for the parameters.\n",
    "5. Present the results in a nice way in your notebook. Make the notebook readable. Perhaps make use of tables, plots and headers. Note that plotting is not part of this course, so you don't need to make plots."
   ]
  },
  {
   "cell_type": "code",
   "execution_count": 2,
   "metadata": {},
   "outputs": [],
   "source": [
    "## Code to get you started\n",
    "\n",
    "%matplotlib inline\n",
    "import sklearn.datasets\n",
    "import pandas as pd\n",
    "import seaborn as sns\n",
    "import numpy as np\n",
    "import matplotlib.pyplot as plt\n",
    "import matplotlib\n",
    "import tensorflow as tf\n",
    "import seaborn as sns\n",
    "\n",
    "sns.set_context(\"poster\")\n",
    "plt.style.use('fivethirtyeight')\n",
    "matplotlib.style.use('fivethirtyeight') \n",
    "plt.rcParams['figure.figsize'] = (10, 6)\n",
    "scatter_size = 60\n",
    "\n",
    "boston = sklearn.datasets.load_boston()\n",
    "\n",
    "def feature_normalize(dataset):\n",
    "    mu = np.mean(dataset,axis=0)\n",
    "    sigma = np.std(dataset,axis=0)\n",
    "    return (dataset - mu)/sigma\n",
    "\n",
    "X = feature_normalize(boston.data)\n",
    "Y = boston.target[:, np.newaxis]"
   ]
  }
 ],
 "metadata": {
  "kernelspec": {
   "display_name": "Python 3",
   "language": "python",
   "name": "python3"
  },
  "language_info": {
   "codemirror_mode": {
    "name": "ipython",
    "version": 3
   },
   "file_extension": ".py",
   "mimetype": "text/x-python",
   "name": "python",
   "nbconvert_exporter": "python",
   "pygments_lexer": "ipython3",
   "version": "3.6.3"
  },
  "toc": {
   "nav_menu": {},
   "number_sections": true,
   "sideBar": true,
   "skip_h1_title": false,
   "title_cell": "Table of Contents",
   "title_sidebar": "Contents",
   "toc_cell": false,
   "toc_position": {},
   "toc_section_display": true,
   "toc_window_display": false
  }
 },
 "nbformat": 4,
 "nbformat_minor": 2
}

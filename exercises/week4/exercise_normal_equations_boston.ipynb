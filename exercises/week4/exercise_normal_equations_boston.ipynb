{
 "cells": [
  {
   "cell_type": "markdown",
   "metadata": {},
   "source": [
    "# Exercise normal equations for the Boston dataset\n",
    "## Your name\n",
    "## Date\n",
    "\n",
    "\n",
    "In notebook we build regression models on the Boston housing dataset.  \n",
    "....*Your description here*"
   ]
  },
  {
   "cell_type": "code",
   "execution_count": 1,
   "metadata": {},
   "outputs": [],
   "source": [
    "%matplotlib inline\n",
    "import sklearn.datasets\n",
    "import pandas as pd\n",
    "import seaborn as sns\n",
    "import numpy as np\n",
    "import matplotlib.pyplot as plt\n",
    "import matplotlib\n",
    "from sklearn.preprocessing import PolynomialFeatures\n",
    "\n",
    "np.random.seed(0)\n",
    "sns.set_context(\"poster\")\n",
    "plt.style.use('fivethirtyeight')\n",
    "matplotlib.style.use('fivethirtyeight') \n",
    "plt.rcParams['figure.figsize'] = (10, 6)\n",
    "scatter_size = 60\n",
    "\n",
    "#Load boston dataset\n",
    "boston = sklearn.datasets.load_boston()\n",
    "\n",
    "def feature_normalize(dataset):\n",
    "    mu = np.mean(dataset,axis=0)\n",
    "    sigma = np.std(dataset,axis=0)\n",
    "    return (dataset - mu)/sigma\n",
    "\n",
    "X = feature_normalize(boston.data)\n",
    "Y = boston.target[:, np.newaxis]"
   ]
  },
  {
   "cell_type": "markdown",
   "metadata": {},
   "source": [
    "## Base model\n",
    "\n",
    "Take a constant hypothesis, constant, equal to the mean.  \n",
    "Calculate the MAPE (mean percentage error)  \n",
    "Calculate the mean square loss"
   ]
  },
  {
   "cell_type": "code",
   "execution_count": 2,
   "metadata": {},
   "outputs": [
    {
     "name": "stdout",
     "output_type": "stream",
     "text": [
      "Mape: 36.3%\n",
      "MSS:  84.4\n"
     ]
    }
   ],
   "source": [
    "y_hat = Y.mean()\n",
    "print(\"Mape: {:3.1f}%\".format(100*(np.abs(Y-y_hat)/Y).mean()))\n",
    "print(\"MSS:  {:3.1f}\".format((np.square(Y-y_hat)).mean()))"
   ]
  },
  {
   "cell_type": "markdown",
   "metadata": {},
   "source": [
    "## Normal equations\n",
    "\n",
    "$$\n",
    "\\boldsymbol \\theta = (X^\\top X)^{-1}X^\\top Y\n",
    "$$"
   ]
  },
  {
   "cell_type": "markdown",
   "metadata": {},
   "source": [
    "## Class for normal equation regression"
   ]
  },
  {
   "cell_type": "code",
   "execution_count": 3,
   "metadata": {},
   "outputs": [],
   "source": [
    "# %load /home/jovyan/answers/week4/regularized_normal_equations.py\n",
    "class NormalModel(object):\n",
    "    \"\"\" Linear regresison model class. \n",
    "    Fitting linear models by solving the normal equations.\n",
    "    \"\"\"\n",
    "    def __init__(self, lambda_reg=0):\n",
    "        \"\"\"\n",
    "        lambda: L2 regularization strenght\n",
    "        \"\"\"\n",
    "        self.theta_hat = None\n",
    "        self.lambda_reg = lambda_reg\n",
    "    \n",
    "    def train(self, X_train, Y_train):\n",
    "        \"\"\"\n",
    "        Sovling the normal equations\n",
    "        \n",
    "        X_train: numpy array (n_training_examples, features)\n",
    "            Should not contain a bias column.\n",
    "        Y_train: numpy array (n_training_examples, n_labels)\n",
    "            For multiple regression n_lables > 1\n",
    "            For a single response variable y, n_labels = 1\n",
    "        \"\"\"\n",
    "        X_bias = self.add_bias(X_train) # Add a bias column to X\n",
    "        # To do: Compute digonal_zero matrix\n",
    "        # To do: Compute regularization term that is used to compute inverse\n",
    "        reg_term = 0\n",
    "        inverse = np.linalg.pinv(X_bias.transpose().dot(X_bias) + reg_term)\n",
    "        self.theta_hat = inverse.dot(X_bias.transpose().dot(Y_train))\n",
    "    \n",
    "    def add_bias(self, X):\n",
    "        X_bias = np.append(np.ones((len(X), 1)), X, axis=1)\n",
    "        return X_bias\n",
    "    \n",
    "    def predict(self, X_batch):\n",
    "        \"\"\"\n",
    "        Inference using the learned weights\n",
    "        \"\"\"\n",
    "        X_bias = self.add_bias(X_batch)\n",
    "        return X_bias.dot(self.theta_hat)\n",
    "    \n",
    "    def score(self, X_batch, Y_batch):\n",
    "        \"\"\"\n",
    "        Print score metrics\n",
    "        \"\"\"\n",
    "        y_hat = self.predict(X_batch)\n",
    "        mape = 100 * (np.abs(Y_batch-y_hat)/Y).mean()\n",
    "        mss =  (np.square(Y_batch-y_hat)).mean()\n",
    "        print(\"Mape: {:05.2f}%\".format(mape))\n",
    "        print(\"MSS:  {:04.2f}\".format(mss))\n",
    "        \n",
    "    def plot_theta(self):\n",
    "        \"\"\"\n",
    "        Barplot of regresison coefficients\n",
    "        \"\"\"\n",
    "        pd.Series(self.theta_hat[:, 0]).plot(kind='bar')\n",
    "        plt.title(\"Coefficients\")\n",
    "        plt.ylabel(\"Value\")\n",
    "        plt.xlabel(\"Index\")\n",
    "        \n",
    "    def hist_theta(self):\n",
    "        \"\"\"\n",
    "        Histogram of the coefficients\n",
    "        \"\"\"\n",
    "        plt.hist(self.theta_hat[:, 0])\n",
    "        plt.title(\"Histogram of coefficients\")\n",
    "        plt.xlabel(\"Value of coefficient\")\n",
    "        plt.ylabel(\"Number of coefficients\")"
   ]
  },
  {
   "cell_type": "markdown",
   "metadata": {},
   "source": [
    "## Linear regression"
   ]
  },
  {
   "cell_type": "code",
   "execution_count": 13,
   "metadata": {},
   "outputs": [
    {
     "name": "stdout",
     "output_type": "stream",
     "text": [
      "Mape: 16.43%\n",
      "MSS:  21.90\n"
     ]
    },
    {
     "data": {
      "image/png": "[encoded data removed]",
      "text/plain": [
       "<matplotlib.figure.Figure at 0x7fc5db31e978>"
      ]
     },
     "metadata": {},
     "output_type": "display_data"
    }
   ],
   "source": [
    "model = NormalModel()\n",
    "model.train(X, Y)\n",
    "model.score(X, Y)\n",
    "model.plot_theta()"
   ]
  },
  {
   "cell_type": "markdown",
   "metadata": {},
   "source": [
    "## Quadratic regression"
   ]
  },
  {
   "cell_type": "code",
   "execution_count": 5,
   "metadata": {},
   "outputs": [],
   "source": [
    "poly2 = PolynomialFeatures(degree=2, include_bias=False)\n",
    "X_poly2 = poly2.fit_transform(boston.data)\n",
    "X_poly2 = feature_normalize(X_poly2)"
   ]
  },
  {
   "cell_type": "code",
   "execution_count": 6,
   "metadata": {},
   "outputs": [
    {
     "name": "stdout",
     "output_type": "stream",
     "text": [
      "Mape: 09.37%\n",
      "MSS:  5.98\n"
     ]
    },
    {
     "data": {
      "image/png": "[encoded data removed]",
      "text/plain": [
       "<matplotlib.figure.Figure at 0x7fc5db600a90>"
      ]
     },
     "metadata": {},
     "output_type": "display_data"
    }
   ],
   "source": [
    "model = NormalModel()\n",
    "model.train(X_poly2, Y)\n",
    "model.score(X_poly2, Y)\n",
    "model.hist_theta()"
   ]
  },
  {
   "cell_type": "markdown",
   "metadata": {},
   "source": [
    "## Cubic Regression"
   ]
  },
  {
   "cell_type": "code",
   "execution_count": 7,
   "metadata": {},
   "outputs": [],
   "source": [
    "poly3 = PolynomialFeatures(degree=3, include_bias=False)\n",
    "X_poly3 = poly3.fit_transform(boston.data)\n",
    "X_poly3 = feature_normalize(X_poly3)"
   ]
  },
  {
   "cell_type": "code",
   "execution_count": 8,
   "metadata": {},
   "outputs": [
    {
     "data": {
      "text/plain": [
       "(506, 559)"
      ]
     },
     "execution_count": 8,
     "metadata": {},
     "output_type": "execute_result"
    }
   ],
   "source": [
    "X_poly3.shape"
   ]
  },
  {
   "cell_type": "code",
   "execution_count": 9,
   "metadata": {},
   "outputs": [
    {
     "name": "stdout",
     "output_type": "stream",
     "text": [
      "Mape: 01.34%\n",
      "MSS:  0.21\n"
     ]
    },
    {
     "data": {
      "image/png": "[encoded data removed]",
      "text/plain": [
       "<matplotlib.figure.Figure at 0x7fc5db4f8fd0>"
      ]
     },
     "metadata": {},
     "output_type": "display_data"
    }
   ],
   "source": [
    "model = NormalModel()\n",
    "model.train(X_poly3, Y)\n",
    "model.score(X_poly3, Y)\n",
    "model.hist_theta()"
   ]
  },
  {
   "cell_type": "markdown",
   "metadata": {},
   "source": [
    "# Exercises\n",
    "Your task is to extend and improve the above notebook. Do not provide a list with answers, but answer these questions within the above notebook.\n",
    "\n",
    "You are free to change code, to add explanations, and to add plots, and even re-organize the sections; everything to make it a better read. If you don't know how to add text, headers, etc in Jupyter notebooks, you find some useful links on the Python preparation page. Presentation will be an important part of the score for this assignment.   \n",
    "\n",
    "You can write your notebook in Dutch or English.\n",
    "\n",
    "\n",
    "## Polynomial regression\n",
    "1. Comment, somewhere in the notebook, on the number of features for the different orders of the polynomial regression.\n",
    "1. Also explain how the polynomial terms are constructed. \n",
    "\n",
    "## Validation set\n",
    "We need to split our data into a train and validation set in order to check if we are not overfitting. As a model becomes more flexible it becomes more likely to overfit. Indeed we see that the polynomial regression shows increasingly high MAPE with an increasing polynomial order.\n",
    "1. Split the data into a validation set and a train set. You can find an example in the slides on the Boston housing data.\n",
    "1. Train the model on the training set and evaluate it on the validation set. Do this for all the examples (linear, polynomial, quadratic, cubic) in the above notebook.\n",
    "1. Present in your notebook a table with train and validation scores [Markdown table](http://www.tablesgenerator.com/markdown_tables) is a tool that can help you creating tables. Double click on this cell to see how the below example table is made\n",
    "1. What do you observe? Add some comments in the notebook. Do you see evidence for overfitting?\n",
    "\n",
    "| **Model**  | **Train score** | **Validation score** |\n",
    "|------------|-----------------|----------------|\n",
    "| Linear     |                 |                |\n",
    "| Quadratic  |                 |                |\n",
    "| Polynomial |                 |                |\n",
    "\n",
    "\n",
    "\n",
    "\n",
    "## Ridge regression\n",
    "With Ridge regression, we add to the cost function a quadratic penalty on the coefficients. During the lectures you saw that how the normal equations change as a result of this new term:\n",
    "$$\n",
    " \\theta = (X^\\top X + \\lambda \\mathbb{1^0})^{-1}X^\\top Y\\,,\n",
    "$$\n",
    "where $\\mathbb{1^0}$ is the unit matrix with the first diagonal element set to zero. The reason of this element being zero, is that we do not want to impose a penalty on the bias.\n",
    "The matrix looks like this:"
   ]
  },
  {
   "cell_type": "code",
   "execution_count": 10,
   "metadata": {},
   "outputs": [
    {
     "data": {
      "text/plain": [
       "array([[0., 0., 0., 0., 0., 0., 0., 0., 0., 0., 0., 0., 0.],\n",
       "       [0., 1., 0., 0., 0., 0., 0., 0., 0., 0., 0., 0., 0.],\n",
       "       [0., 0., 1., 0., 0., 0., 0., 0., 0., 0., 0., 0., 0.],\n",
       "       [0., 0., 0., 1., 0., 0., 0., 0., 0., 0., 0., 0., 0.],\n",
       "       [0., 0., 0., 0., 1., 0., 0., 0., 0., 0., 0., 0., 0.],\n",
       "       [0., 0., 0., 0., 0., 1., 0., 0., 0., 0., 0., 0., 0.],\n",
       "       [0., 0., 0., 0., 0., 0., 1., 0., 0., 0., 0., 0., 0.],\n",
       "       [0., 0., 0., 0., 0., 0., 0., 1., 0., 0., 0., 0., 0.],\n",
       "       [0., 0., 0., 0., 0., 0., 0., 0., 1., 0., 0., 0., 0.],\n",
       "       [0., 0., 0., 0., 0., 0., 0., 0., 0., 1., 0., 0., 0.],\n",
       "       [0., 0., 0., 0., 0., 0., 0., 0., 0., 0., 1., 0., 0.],\n",
       "       [0., 0., 0., 0., 0., 0., 0., 0., 0., 0., 0., 1., 0.],\n",
       "       [0., 0., 0., 0., 0., 0., 0., 0., 0., 0., 0., 0., 1.]])"
      ]
     },
     "execution_count": 10,
     "metadata": {},
     "output_type": "execute_result"
    }
   ],
   "source": [
    "diagonal_zero = np.identity(X.shape[1])\n",
    "diagonal_zero[0,0] = 0\n",
    "diagonal_zero"
   ]
  },
  {
   "cell_type": "markdown",
   "metadata": {},
   "source": [
    "1. Modify the class `NormalRegression` to solve the normal equations of ridge regression\n",
    "2. For the polynomial degrees 1, 2 and 3, use ridge regression to find a better fit to the data. Explain in your notebook how you use the validation dataset and how you find a good value of $\\lambda$. Note that polynomial degree one is nothing but the original features. It's the first case in the notebook.\n",
    "3. Did you find a better hypothesis by including a regularization term?\n",
    "3. What is the effect of regularization on the size of the coefficients? Explain and show this with plots in your notebook.\n",
    "3. Conclude your notebook by recommending a model (hypothesis), including a value for $\\lambda$ and a polynomial order. For clarity, include a table which summarizes the performance of various models and values for $lambda$"
   ]
  },
  {
   "cell_type": "markdown",
   "metadata": {},
   "source": [
    "#### Example code\n",
    "If you implement the regularization correctly, you get the following output. Use this as a check."
   ]
  },
  {
   "cell_type": "code",
   "execution_count": 11,
   "metadata": {},
   "outputs": [
    {
     "name": "stdout",
     "output_type": "stream",
     "text": [
      "Mape: 16.43%\n",
      "MSS:  21.90\n"
     ]
    },
    {
     "data": {
      "image/png": "[encoded data removed]",
      "text/plain": [
       "<matplotlib.figure.Figure at 0x7fc5db3f20b8>"
      ]
     },
     "metadata": {},
     "output_type": "display_data"
    }
   ],
   "source": [
    "model = NormalModel(lambda_reg=1000000)\n",
    "model.train(X, Y)\n",
    "model.score(X, Y)\n",
    "model.plot_theta()\n",
    "\n",
    "# Expected output \n",
    "# Only bias is non-zero\n",
    "# This amounts to constant model\n",
    "# Mape: 36.25%\n",
    "# MSS:  84.19%"
   ]
  },
  {
   "cell_type": "code",
   "execution_count": 12,
   "metadata": {},
   "outputs": [
    {
     "name": "stdout",
     "output_type": "stream",
     "text": [
      "Mape: 01.34%\n",
      "MSS:  0.21\n"
     ]
    },
    {
     "data": {
      "image/png": "[encoded data removed]",
      "text/plain": [
       "<matplotlib.figure.Figure at 0x7fc5db481f98>"
      ]
     },
     "metadata": {},
     "output_type": "display_data"
    }
   ],
   "source": [
    "## Example code\n",
    "model = NormalModel(lambda_reg=0.1)\n",
    "model.train(X_poly3, Y)\n",
    "model.score(X_poly3, Y)\n",
    "model.hist_theta()\n",
    "\n",
    "# Expected output \n",
    "# Mape: 05.87%\n",
    "# MSS:  2.67\n",
    "# Values of the coefficients are way smaller now"
   ]
  }
 ],
 "metadata": {
  "kernelspec": {
   "display_name": "Python 3",
   "language": "python",
   "name": "python3"
  },
  "language_info": {
   "codemirror_mode": {
    "name": "ipython",
    "version": 3
   },
   "file_extension": ".py",
   "mimetype": "text/x-python",
   "name": "python",
   "nbconvert_exporter": "python",
   "pygments_lexer": "ipython3",
   "version": "3.6.3"
  },
  "toc": {
   "nav_menu": {},
   "number_sections": true,
   "sideBar": true,
   "skip_h1_title": false,
   "title_cell": "Table of Contents",
   "title_sidebar": "Contents",
   "toc_cell": false,
   "toc_position": {},
   "toc_section_display": true,
   "toc_window_display": false
  }
 },
 "nbformat": 4,
 "nbformat_minor": 2
}
